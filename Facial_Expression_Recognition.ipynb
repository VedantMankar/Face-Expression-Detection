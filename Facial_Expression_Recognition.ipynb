{
  "nbformat": 4,
  "nbformat_minor": 0,
  "metadata": {
    "colab": {
      "name": "Facial Expression Recognition.ipynb",
      "provenance": [],
      "collapsed_sections": [],
      "authorship_tag": "ABX9TyPId0sGnsFUVxRs3QD7OQqI",
      "include_colab_link": true
    },
    "kernelspec": {
      "name": "python3",
      "display_name": "Python 3"
    },
    "accelerator": "GPU"
  },
  "cells": [
    {
      "cell_type": "markdown",
      "metadata": {
        "id": "view-in-github",
        "colab_type": "text"
      },
      "source": [
        "<a href=\"https://colab.research.google.com/github/VedantMankar/Face-Expression-Detection/blob/master/Facial_Expression_Recognition.ipynb\" target=\"_parent\"><img src=\"https://colab.research.google.com/assets/colab-badge.svg\" alt=\"Open In Colab\"/></a>"
      ]
    },
    {
      "cell_type": "code",
      "metadata": {
        "id": "NpKcvb6pbeVW",
        "colab_type": "code",
        "outputId": "8afb5e7d-223d-45f9-cfee-2033332fd411",
        "colab": {
          "base_uri": "https://localhost:8080/",
          "height": 35
        }
      },
      "source": [
        "from zipfile import ZipFile\n",
        "file_name =\"face-expression-recognition-dataset.zip\"\n",
        "\n",
        "with ZipFile(file_name,'r') as Zip:\n",
        "  Zip.extractall()\n",
        "  print(\"Done\")"
      ],
      "execution_count": 0,
      "outputs": [
        {
          "output_type": "stream",
          "text": [
            "Done\n"
          ],
          "name": "stdout"
        }
      ]
    },
    {
      "cell_type": "code",
      "metadata": {
        "id": "7RpN_eM7hwhr",
        "colab_type": "code",
        "outputId": "69ab5462-561a-46bc-c8a8-ed14ed3b4aa4",
        "colab": {
          "base_uri": "https://localhost:8080/",
          "height": 124
        }
      },
      "source": [
        "from google.colab import drive\n",
        "drive.mount('/content/drive')"
      ],
      "execution_count": 0,
      "outputs": [
        {
          "output_type": "stream",
          "text": [
            "Go to this URL in a browser: https://accounts.google.com/o/oauth2/auth?client_id=947318989803-6bn6qk8qdgf4n4g3pfee6491hc0brc4i.apps.googleusercontent.com&redirect_uri=urn%3aietf%3awg%3aoauth%3a2.0%3aoob&response_type=code&scope=email%20https%3a%2f%2fwww.googleapis.com%2fauth%2fdocs.test%20https%3a%2f%2fwww.googleapis.com%2fauth%2fdrive%20https%3a%2f%2fwww.googleapis.com%2fauth%2fdrive.photos.readonly%20https%3a%2f%2fwww.googleapis.com%2fauth%2fpeopleapi.readonly\n",
            "\n",
            "Enter your authorization code:\n",
            "··········\n",
            "Mounted at /content/drive\n"
          ],
          "name": "stdout"
        }
      ]
    },
    {
      "cell_type": "code",
      "metadata": {
        "id": "I9lkdQV1ki-9",
        "colab_type": "code",
        "outputId": "723b022f-34c6-4e0d-f3de-d02247240957",
        "colab": {
          "base_uri": "https://localhost:8080/",
          "height": 107
        }
      },
      "source": [
        "!pip install utils"
      ],
      "execution_count": 0,
      "outputs": [
        {
          "output_type": "stream",
          "text": [
            "Collecting utils\n",
            "  Downloading https://files.pythonhosted.org/packages/55/e6/c2d2b2703e7debc8b501caae0e6f7ead148fd0faa3c8131292a599930029/utils-1.0.1-py2.py3-none-any.whl\n",
            "Installing collected packages: utils\n",
            "Successfully installed utils-1.0.1\n"
          ],
          "name": "stdout"
        }
      ]
    },
    {
      "cell_type": "code",
      "metadata": {
        "id": "wzpL_E_Pkq1b",
        "colab_type": "code",
        "outputId": "1d5835af-0ef6-44e0-a9f3-4aedf5789cc6",
        "colab": {
          "base_uri": "https://localhost:8080/",
          "height": 436
        }
      },
      "source": [
        "!pip install livelossplot"
      ],
      "execution_count": 0,
      "outputs": [
        {
          "output_type": "stream",
          "text": [
            "Collecting livelossplot\n",
            "  Downloading https://files.pythonhosted.org/packages/7c/e4/a7884b57113dfe84d3565418820feae7a20964438beb1088b2b08820ad94/livelossplot-0.5.0-py3-none-any.whl\n",
            "Requirement already satisfied: matplotlib; python_version >= \"3.6\" in /usr/local/lib/python3.6/dist-packages (from livelossplot) (3.2.1)\n",
            "Requirement already satisfied: ipython in /usr/local/lib/python3.6/dist-packages (from livelossplot) (5.5.0)\n",
            "Requirement already satisfied: cycler>=0.10 in /usr/local/lib/python3.6/dist-packages (from matplotlib; python_version >= \"3.6\"->livelossplot) (0.10.0)\n",
            "Requirement already satisfied: pyparsing!=2.0.4,!=2.1.2,!=2.1.6,>=2.0.1 in /usr/local/lib/python3.6/dist-packages (from matplotlib; python_version >= \"3.6\"->livelossplot) (2.4.7)\n",
            "Requirement already satisfied: numpy>=1.11 in /usr/local/lib/python3.6/dist-packages (from matplotlib; python_version >= \"3.6\"->livelossplot) (1.18.4)\n",
            "Requirement already satisfied: kiwisolver>=1.0.1 in /usr/local/lib/python3.6/dist-packages (from matplotlib; python_version >= \"3.6\"->livelossplot) (1.2.0)\n",
            "Requirement already satisfied: python-dateutil>=2.1 in /usr/local/lib/python3.6/dist-packages (from matplotlib; python_version >= \"3.6\"->livelossplot) (2.8.1)\n",
            "Requirement already satisfied: pygments in /usr/local/lib/python3.6/dist-packages (from ipython->livelossplot) (2.1.3)\n",
            "Requirement already satisfied: simplegeneric>0.8 in /usr/local/lib/python3.6/dist-packages (from ipython->livelossplot) (0.8.1)\n",
            "Requirement already satisfied: pexpect; sys_platform != \"win32\" in /usr/local/lib/python3.6/dist-packages (from ipython->livelossplot) (4.8.0)\n",
            "Requirement already satisfied: setuptools>=18.5 in /usr/local/lib/python3.6/dist-packages (from ipython->livelossplot) (46.3.0)\n",
            "Requirement already satisfied: decorator in /usr/local/lib/python3.6/dist-packages (from ipython->livelossplot) (4.4.2)\n",
            "Requirement already satisfied: pickleshare in /usr/local/lib/python3.6/dist-packages (from ipython->livelossplot) (0.7.5)\n",
            "Requirement already satisfied: prompt-toolkit<2.0.0,>=1.0.4 in /usr/local/lib/python3.6/dist-packages (from ipython->livelossplot) (1.0.18)\n",
            "Requirement already satisfied: traitlets>=4.2 in /usr/local/lib/python3.6/dist-packages (from ipython->livelossplot) (4.3.3)\n",
            "Requirement already satisfied: six in /usr/local/lib/python3.6/dist-packages (from cycler>=0.10->matplotlib; python_version >= \"3.6\"->livelossplot) (1.12.0)\n",
            "Requirement already satisfied: ptyprocess>=0.5 in /usr/local/lib/python3.6/dist-packages (from pexpect; sys_platform != \"win32\"->ipython->livelossplot) (0.6.0)\n",
            "Requirement already satisfied: wcwidth in /usr/local/lib/python3.6/dist-packages (from prompt-toolkit<2.0.0,>=1.0.4->ipython->livelossplot) (0.1.9)\n",
            "Requirement already satisfied: ipython-genutils in /usr/local/lib/python3.6/dist-packages (from traitlets>=4.2->ipython->livelossplot) (0.2.0)\n",
            "Installing collected packages: livelossplot\n",
            "Successfully installed livelossplot-0.5.0\n"
          ],
          "name": "stdout"
        }
      ]
    },
    {
      "cell_type": "markdown",
      "metadata": {
        "id": "yH4UKI2Wi3rd",
        "colab_type": "text"
      },
      "source": [
        "Importing Libraries"
      ]
    },
    {
      "cell_type": "code",
      "metadata": {
        "id": "_Ku0AKueiyEq",
        "colab_type": "code",
        "colab": {}
      },
      "source": [
        "import numpy as np\n",
        "import seaborn as sns\n",
        "import matplotlib.pyplot as plt\n",
        "%matplotlib inline\n",
        "import os\n",
        "import utils\n",
        "\n",
        "from tensorflow.keras.preprocessing.image import ImageDataGenerator\n",
        "from tensorflow.keras.layers import Dense,Input,Dropout,Flatten,Conv2D\n",
        "from tensorflow.keras.layers import MaxPooling2D,Activation,BatchNormalization\n",
        "from tensorflow.keras.models import Sequential , Model\n",
        "from tensorflow.keras.utils import plot_model\n",
        "from tensorflow.keras.optimizers import Adam\n",
        "from tensorflow.keras.callbacks import ModelCheckpoint , ReduceLROnPlateau\n",
        "from IPython.display import SVG,Image\n",
        "from livelossplot import PlotLossesKerasTF"
      ],
      "execution_count": 0,
      "outputs": []
    },
    {
      "cell_type": "code",
      "metadata": {
        "id": "qYlbthPvi83O",
        "colab_type": "code",
        "colab": {}
      },
      "source": [
        ""
      ],
      "execution_count": 0,
      "outputs": []
    },
    {
      "cell_type": "markdown",
      "metadata": {
        "id": "1D6h-uh_kz8q",
        "colab_type": "text"
      },
      "source": [
        "Exploring Dataset"
      ]
    },
    {
      "cell_type": "code",
      "metadata": {
        "id": "-gLGMeVkk1Dn",
        "colab_type": "code",
        "outputId": "b701b108-9e4f-484e-e164-1b1a4d0f830c",
        "colab": {
          "base_uri": "https://localhost:8080/",
          "height": 139
        }
      },
      "source": [
        "for expression in os.listdir(\"/content/images/train/\"):\n",
        "    print(str(len(os.listdir(\"./images/train/\" + expression))) +\" \"+ expression +\" \" + \"images\" )"
      ],
      "execution_count": 0,
      "outputs": [
        {
          "output_type": "stream",
          "text": [
            "7164 happy images\n",
            "4982 neutral images\n",
            "3993 angry images\n",
            "436 disgust images\n",
            "3205 surprise images\n",
            "4103 fear images\n",
            "4938 sad images\n"
          ],
          "name": "stdout"
        }
      ]
    },
    {
      "cell_type": "markdown",
      "metadata": {
        "id": "ihuAxME3l0DU",
        "colab_type": "text"
      },
      "source": [
        "Generating Training and validation batches"
      ]
    },
    {
      "cell_type": "code",
      "metadata": {
        "id": "gBTaZdzcluR3",
        "colab_type": "code",
        "outputId": "d95d6653-5a48-41e3-ceb1-d17cb8363123",
        "colab": {
          "base_uri": "https://localhost:8080/",
          "height": 35
        }
      },
      "source": [
        "img_size = 48 # Data from kaggle\n",
        "batch_size = 64\n",
        "\n",
        "#Training data\n",
        "training_datagen = ImageDataGenerator(horizontal_flip=True,vertical_flip = True,rotation_range=0)\n",
        "train_generator = training_datagen.flow_from_directory(\"/content/images/train\",\n",
        "                                                        target_size = (img_size,img_size),\n",
        "                                                       batch_size = batch_size,\n",
        "                                                       color_mode = 'grayscale',\n",
        "                                                       class_mode = 'categorical',\n",
        "                                                       shuffle=True)\n"
      ],
      "execution_count": 0,
      "outputs": [
        {
          "output_type": "stream",
          "text": [
            "Found 28821 images belonging to 7 classes.\n"
          ],
          "name": "stdout"
        }
      ]
    },
    {
      "cell_type": "code",
      "metadata": {
        "id": "7UVkWPk7mLDV",
        "colab_type": "code",
        "outputId": "06e64144-f04c-42e6-b071-611d858176c0",
        "colab": {
          "base_uri": "https://localhost:8080/",
          "height": 35
        }
      },
      "source": [
        "#Validation Data\n",
        "valid_datagen = ImageDataGenerator(horizontal_flip=True,vertical_flip = True,rotation_range=0)\n",
        "valid_generator = valid_datagen.flow_from_directory(\"/content/images/validation\",\n",
        "                                                        target_size = (img_size,img_size),\n",
        "                                                       batch_size = batch_size,\n",
        "                                                       color_mode = 'grayscale',\n",
        "                                                       class_mode = 'categorical',\n",
        "                                                       shuffle=True)"
      ],
      "execution_count": 0,
      "outputs": [
        {
          "output_type": "stream",
          "text": [
            "Found 7066 images belonging to 7 classes.\n"
          ],
          "name": "stdout"
        }
      ]
    },
    {
      "cell_type": "markdown",
      "metadata": {
        "id": "foSyby7wmTYO",
        "colab_type": "text"
      },
      "source": [
        "Create Model"
      ]
    },
    {
      "cell_type": "code",
      "metadata": {
        "id": "PY6YeeTTmQmR",
        "colab_type": "code",
        "outputId": "71fd7783-242d-4ff2-b3a8-bb70eae44b5f",
        "colab": {
          "base_uri": "https://localhost:8080/",
          "height": 1000
        }
      },
      "source": [
        "\n",
        "model = Sequential()\n",
        "    \n",
        "#1-Conv-layer\n",
        "model.add(Conv2D(64,(3,3),padding='same',input_shape=(48,48,1)))\n",
        "model.add(BatchNormalization())\n",
        "model.add(Activation('relu'))\n",
        "model.add(MaxPooling2D(pool_size=(2,2)))\n",
        "model.add(Dropout(0.25))\n",
        "    \n",
        "#2-Conv-layer\n",
        "model.add(Conv2D(128,(5,5),padding='same'))\n",
        "model.add(BatchNormalization())\n",
        "model.add(Activation('relu'))\n",
        "model.add(MaxPooling2D(pool_size=(2,2)))\n",
        "model.add(Dropout(0.25))\n",
        "    \n",
        "#3-Conv-layer\n",
        "model.add(Conv2D(512,(3,3),padding='same'))\n",
        "model.add(BatchNormalization())\n",
        "model.add(Activation('relu'))\n",
        "model.add(MaxPooling2D(pool_size=(2,2)))\n",
        "model.add(Dropout(0.25))\n",
        "    \n",
        "#4-Conv-layer\n",
        "model.add(Conv2D(512,(3,3),padding='same'))\n",
        "model.add(BatchNormalization())\n",
        "model.add(Activation('relu'))\n",
        "model.add(MaxPooling2D(pool_size=(2,2)))\n",
        "model.add(Dropout(0.25))\n",
        "    \n",
        "model.add(Flatten())\n",
        "    \n",
        "#Neural Network layer\n",
        "model.add(Dense(256))\n",
        "model.add(BatchNormalization())\n",
        "model.add(Activation('relu'))\n",
        "model.add(Dropout(0.25))\n",
        "    \n",
        "model.add(Dense(512))\n",
        "model.add(BatchNormalization())\n",
        "model.add(Activation('relu'))\n",
        "model.add(Dropout(0.25))\n",
        "    \n",
        "model.add(Dense(7,activation='softmax'))\n",
        "    \n",
        "opt = Adam(lr=0.0005)\n",
        "model.compile(optimizer=opt,loss=\"categorical_crossentropy\",metrics = ['accuracy'])\n",
        "model.summary()\n",
        "    \n",
        "    "
      ],
      "execution_count": 0,
      "outputs": [
        {
          "output_type": "stream",
          "text": [
            "Model: \"sequential_4\"\n",
            "_________________________________________________________________\n",
            "Layer (type)                 Output Shape              Param #   \n",
            "=================================================================\n",
            "conv2d_16 (Conv2D)           (None, 48, 48, 64)        640       \n",
            "_________________________________________________________________\n",
            "batch_normalization_24 (Batc (None, 48, 48, 64)        256       \n",
            "_________________________________________________________________\n",
            "activation_24 (Activation)   (None, 48, 48, 64)        0         \n",
            "_________________________________________________________________\n",
            "max_pooling2d_16 (MaxPooling (None, 24, 24, 64)        0         \n",
            "_________________________________________________________________\n",
            "dropout_24 (Dropout)         (None, 24, 24, 64)        0         \n",
            "_________________________________________________________________\n",
            "conv2d_17 (Conv2D)           (None, 24, 24, 128)       204928    \n",
            "_________________________________________________________________\n",
            "batch_normalization_25 (Batc (None, 24, 24, 128)       512       \n",
            "_________________________________________________________________\n",
            "activation_25 (Activation)   (None, 24, 24, 128)       0         \n",
            "_________________________________________________________________\n",
            "max_pooling2d_17 (MaxPooling (None, 12, 12, 128)       0         \n",
            "_________________________________________________________________\n",
            "dropout_25 (Dropout)         (None, 12, 12, 128)       0         \n",
            "_________________________________________________________________\n",
            "conv2d_18 (Conv2D)           (None, 12, 12, 512)       590336    \n",
            "_________________________________________________________________\n",
            "batch_normalization_26 (Batc (None, 12, 12, 512)       2048      \n",
            "_________________________________________________________________\n",
            "activation_26 (Activation)   (None, 12, 12, 512)       0         \n",
            "_________________________________________________________________\n",
            "max_pooling2d_18 (MaxPooling (None, 6, 6, 512)         0         \n",
            "_________________________________________________________________\n",
            "dropout_26 (Dropout)         (None, 6, 6, 512)         0         \n",
            "_________________________________________________________________\n",
            "conv2d_19 (Conv2D)           (None, 6, 6, 512)         2359808   \n",
            "_________________________________________________________________\n",
            "batch_normalization_27 (Batc (None, 6, 6, 512)         2048      \n",
            "_________________________________________________________________\n",
            "activation_27 (Activation)   (None, 6, 6, 512)         0         \n",
            "_________________________________________________________________\n",
            "max_pooling2d_19 (MaxPooling (None, 3, 3, 512)         0         \n",
            "_________________________________________________________________\n",
            "dropout_27 (Dropout)         (None, 3, 3, 512)         0         \n",
            "_________________________________________________________________\n",
            "flatten_4 (Flatten)          (None, 4608)              0         \n",
            "_________________________________________________________________\n",
            "dense_12 (Dense)             (None, 256)               1179904   \n",
            "_________________________________________________________________\n",
            "batch_normalization_28 (Batc (None, 256)               1024      \n",
            "_________________________________________________________________\n",
            "activation_28 (Activation)   (None, 256)               0         \n",
            "_________________________________________________________________\n",
            "dropout_28 (Dropout)         (None, 256)               0         \n",
            "_________________________________________________________________\n",
            "dense_13 (Dense)             (None, 512)               131584    \n",
            "_________________________________________________________________\n",
            "batch_normalization_29 (Batc (None, 512)               2048      \n",
            "_________________________________________________________________\n",
            "activation_29 (Activation)   (None, 512)               0         \n",
            "_________________________________________________________________\n",
            "dropout_29 (Dropout)         (None, 512)               0         \n",
            "_________________________________________________________________\n",
            "dense_14 (Dense)             (None, 7)                 3591      \n",
            "=================================================================\n",
            "Total params: 4,478,727\n",
            "Trainable params: 4,474,759\n",
            "Non-trainable params: 3,968\n",
            "_________________________________________________________________\n"
          ],
          "name": "stdout"
        }
      ]
    },
    {
      "cell_type": "markdown",
      "metadata": {
        "id": "vR0iRpv2nGFV",
        "colab_type": "text"
      },
      "source": [
        "Training and Evaluating Model"
      ]
    },
    {
      "cell_type": "code",
      "metadata": {
        "id": "YvFsOw8FmZ02",
        "colab_type": "code",
        "outputId": "6d3ef3fc-9f3d-4d2b-fa2f-7b78a4a64ba2",
        "colab": {
          "base_uri": "https://localhost:8080/",
          "height": 502
        }
      },
      "source": [
        "epochs = 15\n",
        "steps_per_epoch = train_generator.n//train_generator.batch_size\n",
        "validation_steps = valid_generator.n//valid_generator.batch_size\n",
        "\n",
        "#creating checkpoints\n",
        "checkpoints = ModelCheckpoint(\"ModelWeights.h5\",monitor='val_accuracy',save_weights_only=True,mode='max',verbose=1)\n",
        "\n",
        "#Reducing learning rate\n",
        "reduce_lr = ReduceLROnPlateau(monitor='val_loss',factor=0.1,patience=2,min_lr=0.0001,mode='auto')\n",
        "\n",
        "callbacks = [PlotLossesKerasTF(),checkpoints,reduce_lr]\n",
        "\n",
        "history = model.fit(x = train_generator,\n",
        "                   steps_per_epoch=steps_per_epoch,\n",
        "                   epochs = epochs,\n",
        "                   validation_data = valid_generator,\n",
        "                   validation_steps = validation_steps,\n",
        "                    callbacks = callbacks)\n"
      ],
      "execution_count": 0,
      "outputs": [
        {
          "output_type": "display_data",
          "data": {
            "image/png": "[encoded data removed]",
            "text/plain": [
              "<Figure size 864x576 with 2 Axes>"
            ]
          },
          "metadata": {
            "tags": [],
            "needs_background": "light"
          }
        },
        {
          "output_type": "stream",
          "text": [
            "accuracy\n",
            "\ttraining         \t (min:    0.229, max:    0.603, cur:    0.603)\n",
            "\tvalidation       \t (min:    0.271, max:    0.615, cur:    0.615)\n",
            "Loss\n",
            "\ttraining         \t (min:    1.046, max:    1.926, cur:    1.046)\n",
            "\tvalidation       \t (min:    1.034, max:    1.825, cur:    1.034)\n",
            "\n",
            "Epoch 00015: saving model to ModelWeights.h5\n",
            "\b\b\b\b\b\b\b\b\b\b\b\b\b\b\b\b\b\b\b\b\b\b\b\b\b\b\b\b\b\b\b\b\b\b\b\b\b\b\b\b\b\b\b\b\b\b\b\b\b\b\b\b\b\b\b\b\b\b\b\b\b\b\b\b\b\b\b\b\b\b\b\b\b\b\b\b\b\b\b\b\b\b\b\b\r450/450 [==============================] - 29s 64ms/step - loss: 1.0456 - accuracy: 0.6028 - val_loss: 1.0341 - val_accuracy: 0.6148 - lr: 1.0000e-04\n"
          ],
          "name": "stdout"
        }
      ]
    },
    {
      "cell_type": "code",
      "metadata": {
        "id": "fiORyGCHnKXC",
        "colab_type": "code",
        "colab": {}
      },
      "source": [
        "model_json = model.to_json()\n",
        "with open(\"model.json\",\"w\") as json_file:\n",
        "  json_file.write(model_json)"
      ],
      "execution_count": 0,
      "outputs": []
    },
    {
      "cell_type": "code",
      "metadata": {
        "id": "PPBm2xWbdMIv",
        "colab_type": "code",
        "colab": {}
      },
      "source": [
        ""
      ],
      "execution_count": 0,
      "outputs": []
    }
  ]
}